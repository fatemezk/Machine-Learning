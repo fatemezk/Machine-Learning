{
 "cells": [
  {
   "cell_type": "markdown",
   "id": "1a215e1d",
   "metadata": {},
   "source": [
    "# Computer Assignment 4"
   ]
  },
  {
   "cell_type": "markdown",
   "id": "a0534700",
   "metadata": {},
   "source": [
    "# Machine Learning Introduction"
   ]
  },
  {
   "cell_type": "markdown",
   "id": "65206927",
   "metadata": {},
   "source": [
    "Fateme Zare Karizi\n",
    "810198550"
   ]
  },
  {
   "cell_type": "markdown",
   "id": "b5b41148",
   "metadata": {},
   "source": [
    "# Introduction"
   ]
  },
  {
   "cell_type": "markdown",
   "id": "9dac6609",
   "metadata": {},
   "source": [
    "In this assignment we are about to use Sickit-Learn library to learn Machine Learning. We are given a dataset about diabet and we are going to predict."
   ]
  },
  {
   "cell_type": "code",
   "execution_count": 5,
   "id": "184044d9",
   "metadata": {},
   "outputs": [],
   "source": [
    "import pandas as pd\n",
    "import numpy as np\n",
    "from sklearn.preprocessing import OrdinalEncoder, StandardScaler, OneHotEncoder\n",
    "from sklearn.model_selection import train_test_split\n",
    "from sklearn.feature_selection import mutual_info_classif\n",
    "from sklearn.metrics import classification_report, ConfusionMatrixDisplay, accuracy_score\n",
    "from sklearn.tree import DecisionTreeClassifier\n",
    "from sklearn.neighbors import KNeighborsClassifier\n",
    "from sklearn.ensemble import RandomForestClassifier\n",
    "import math\n",
    "\n",
    "import matplotlib.pyplot as plt\n",
    "import seaborn as sns\n",
    "#import statsmodels.api as sm\n",
    "import gc\n",
    "import warnings\n",
    "warnings.filterwarnings(\"ignore\")"
   ]
  },
  {
   "cell_type": "code",
   "execution_count": 6,
   "id": "9f84a992",
   "metadata": {},
   "outputs": [],
   "source": [
    "dataset = pd.read_csv('diabetes.csv')"
   ]
  },
  {
   "cell_type": "markdown",
   "id": "154403c2",
   "metadata": {},
   "source": [
    "# EDA"
   ]
  },
  {
   "cell_type": "markdown",
   "id": "d2309d27",
   "metadata": {},
   "source": []
  },
  {
   "cell_type": "code",
   "execution_count": 7,
   "id": "c225fae5",
   "metadata": {},
   "outputs": [
    {
     "data": {
      "text/html": [
       "<div>\n",
       "<style scoped>\n",
       "    .dataframe tbody tr th:only-of-type {\n",
       "        vertical-align: middle;\n",
       "    }\n",
       "\n",
       "    .dataframe tbody tr th {\n",
       "        vertical-align: top;\n",
       "    }\n",
       "\n",
       "    .dataframe thead th {\n",
       "        text-align: right;\n",
       "    }\n",
       "</style>\n",
       "<table border=\"1\" class=\"dataframe\">\n",
       "  <thead>\n",
       "    <tr style=\"text-align: right;\">\n",
       "      <th></th>\n",
       "      <th>Pregnancies</th>\n",
       "      <th>Glucose</th>\n",
       "      <th>BloodPressure</th>\n",
       "      <th>SkinThickness</th>\n",
       "      <th>Insulin</th>\n",
       "      <th>BMI</th>\n",
       "      <th>DiabetesPedigreeFunction</th>\n",
       "      <th>Age</th>\n",
       "      <th>Outcome</th>\n",
       "    </tr>\n",
       "  </thead>\n",
       "  <tbody>\n",
       "    <tr>\n",
       "      <th>0</th>\n",
       "      <td>6.0</td>\n",
       "      <td>148.0</td>\n",
       "      <td>72.0</td>\n",
       "      <td>35.0</td>\n",
       "      <td>0.0</td>\n",
       "      <td>33.6</td>\n",
       "      <td>0.627</td>\n",
       "      <td>50.0</td>\n",
       "      <td>1</td>\n",
       "    </tr>\n",
       "    <tr>\n",
       "      <th>1</th>\n",
       "      <td>1.0</td>\n",
       "      <td>85.0</td>\n",
       "      <td>66.0</td>\n",
       "      <td>29.0</td>\n",
       "      <td>0.0</td>\n",
       "      <td>26.6</td>\n",
       "      <td>0.351</td>\n",
       "      <td>31.0</td>\n",
       "      <td>0</td>\n",
       "    </tr>\n",
       "    <tr>\n",
       "      <th>2</th>\n",
       "      <td>NaN</td>\n",
       "      <td>183.0</td>\n",
       "      <td>64.0</td>\n",
       "      <td>0.0</td>\n",
       "      <td>0.0</td>\n",
       "      <td>23.3</td>\n",
       "      <td>0.672</td>\n",
       "      <td>32.0</td>\n",
       "      <td>1</td>\n",
       "    </tr>\n",
       "    <tr>\n",
       "      <th>3</th>\n",
       "      <td>1.0</td>\n",
       "      <td>89.0</td>\n",
       "      <td>66.0</td>\n",
       "      <td>23.0</td>\n",
       "      <td>94.0</td>\n",
       "      <td>28.1</td>\n",
       "      <td>0.167</td>\n",
       "      <td>21.0</td>\n",
       "      <td>0</td>\n",
       "    </tr>\n",
       "    <tr>\n",
       "      <th>4</th>\n",
       "      <td>NaN</td>\n",
       "      <td>137.0</td>\n",
       "      <td>40.0</td>\n",
       "      <td>35.0</td>\n",
       "      <td>168.0</td>\n",
       "      <td>NaN</td>\n",
       "      <td>NaN</td>\n",
       "      <td>33.0</td>\n",
       "      <td>1</td>\n",
       "    </tr>\n",
       "  </tbody>\n",
       "</table>\n",
       "</div>"
      ],
      "text/plain": [
       "   Pregnancies  Glucose  BloodPressure  SkinThickness  Insulin   BMI  \\\n",
       "0          6.0    148.0           72.0           35.0      0.0  33.6   \n",
       "1          1.0     85.0           66.0           29.0      0.0  26.6   \n",
       "2          NaN    183.0           64.0            0.0      0.0  23.3   \n",
       "3          1.0     89.0           66.0           23.0     94.0  28.1   \n",
       "4          NaN    137.0           40.0           35.0    168.0   NaN   \n",
       "\n",
       "   DiabetesPedigreeFunction   Age  Outcome  \n",
       "0                     0.627  50.0        1  \n",
       "1                     0.351  31.0        0  \n",
       "2                     0.672  32.0        1  \n",
       "3                     0.167  21.0        0  \n",
       "4                       NaN  33.0        1  "
      ]
     },
     "execution_count": 7,
     "metadata": {},
     "output_type": "execute_result"
    }
   ],
   "source": [
    "dataset.head()"
   ]
  },
  {
   "cell_type": "code",
   "execution_count": 8,
   "id": "ceadbc79",
   "metadata": {},
   "outputs": [
    {
     "name": "stdout",
     "output_type": "stream",
     "text": [
      "<class 'pandas.core.frame.DataFrame'>\n",
      "RangeIndex: 768 entries, 0 to 767\n",
      "Data columns (total 9 columns):\n",
      " #   Column                    Non-Null Count  Dtype  \n",
      "---  ------                    --------------  -----  \n",
      " 0   Pregnancies               635 non-null    float64\n",
      " 1   Glucose                   654 non-null    float64\n",
      " 2   BloodPressure             680 non-null    float64\n",
      " 3   SkinThickness             624 non-null    float64\n",
      " 4   Insulin                   680 non-null    float64\n",
      " 5   BMI                       684 non-null    float64\n",
      " 6   DiabetesPedigreeFunction  590 non-null    float64\n",
      " 7   Age                       655 non-null    float64\n",
      " 8   Outcome                   768 non-null    int64  \n",
      "dtypes: float64(8), int64(1)\n",
      "memory usage: 54.1 KB\n"
     ]
    }
   ],
   "source": [
    "dataset.info()"
   ]
  },
  {
   "cell_type": "code",
   "execution_count": 9,
   "id": "779a8718",
   "metadata": {},
   "outputs": [
    {
     "data": {
      "text/html": [
       "<div>\n",
       "<style scoped>\n",
       "    .dataframe tbody tr th:only-of-type {\n",
       "        vertical-align: middle;\n",
       "    }\n",
       "\n",
       "    .dataframe tbody tr th {\n",
       "        vertical-align: top;\n",
       "    }\n",
       "\n",
       "    .dataframe thead th {\n",
       "        text-align: right;\n",
       "    }\n",
       "</style>\n",
       "<table border=\"1\" class=\"dataframe\">\n",
       "  <thead>\n",
       "    <tr style=\"text-align: right;\">\n",
       "      <th></th>\n",
       "      <th>Pregnancies</th>\n",
       "      <th>Glucose</th>\n",
       "      <th>BloodPressure</th>\n",
       "      <th>SkinThickness</th>\n",
       "      <th>Insulin</th>\n",
       "      <th>BMI</th>\n",
       "      <th>DiabetesPedigreeFunction</th>\n",
       "      <th>Age</th>\n",
       "      <th>Outcome</th>\n",
       "    </tr>\n",
       "  </thead>\n",
       "  <tbody>\n",
       "    <tr>\n",
       "      <th>count</th>\n",
       "      <td>635.000000</td>\n",
       "      <td>654.000000</td>\n",
       "      <td>680.000000</td>\n",
       "      <td>624.000000</td>\n",
       "      <td>680.000000</td>\n",
       "      <td>684.000000</td>\n",
       "      <td>590.000000</td>\n",
       "      <td>655.000000</td>\n",
       "      <td>768.000000</td>\n",
       "    </tr>\n",
       "    <tr>\n",
       "      <th>mean</th>\n",
       "      <td>3.700787</td>\n",
       "      <td>113.422018</td>\n",
       "      <td>68.786765</td>\n",
       "      <td>20.386218</td>\n",
       "      <td>80.123529</td>\n",
       "      <td>32.083626</td>\n",
       "      <td>0.466676</td>\n",
       "      <td>33.157252</td>\n",
       "      <td>0.348958</td>\n",
       "    </tr>\n",
       "    <tr>\n",
       "      <th>std</th>\n",
       "      <td>3.518126</td>\n",
       "      <td>202.816831</td>\n",
       "      <td>19.724841</td>\n",
       "      <td>15.987049</td>\n",
       "      <td>115.681140</td>\n",
       "      <td>7.800741</td>\n",
       "      <td>0.322408</td>\n",
       "      <td>13.829831</td>\n",
       "      <td>0.476951</td>\n",
       "    </tr>\n",
       "    <tr>\n",
       "      <th>min</th>\n",
       "      <td>-22.000000</td>\n",
       "      <td>-5000.000000</td>\n",
       "      <td>-2.000000</td>\n",
       "      <td>0.000000</td>\n",
       "      <td>0.000000</td>\n",
       "      <td>0.000000</td>\n",
       "      <td>0.078000</td>\n",
       "      <td>-150.000000</td>\n",
       "      <td>0.000000</td>\n",
       "    </tr>\n",
       "    <tr>\n",
       "      <th>25%</th>\n",
       "      <td>1.000000</td>\n",
       "      <td>99.000000</td>\n",
       "      <td>62.000000</td>\n",
       "      <td>0.000000</td>\n",
       "      <td>0.000000</td>\n",
       "      <td>27.375000</td>\n",
       "      <td>0.243250</td>\n",
       "      <td>24.000000</td>\n",
       "      <td>0.000000</td>\n",
       "    </tr>\n",
       "    <tr>\n",
       "      <th>50%</th>\n",
       "      <td>3.000000</td>\n",
       "      <td>117.000000</td>\n",
       "      <td>72.000000</td>\n",
       "      <td>23.000000</td>\n",
       "      <td>34.000000</td>\n",
       "      <td>32.300000</td>\n",
       "      <td>0.368000</td>\n",
       "      <td>29.000000</td>\n",
       "      <td>0.000000</td>\n",
       "    </tr>\n",
       "    <tr>\n",
       "      <th>75%</th>\n",
       "      <td>6.000000</td>\n",
       "      <td>140.750000</td>\n",
       "      <td>80.000000</td>\n",
       "      <td>32.000000</td>\n",
       "      <td>129.250000</td>\n",
       "      <td>36.600000</td>\n",
       "      <td>0.611500</td>\n",
       "      <td>41.000000</td>\n",
       "      <td>1.000000</td>\n",
       "    </tr>\n",
       "    <tr>\n",
       "      <th>max</th>\n",
       "      <td>17.000000</td>\n",
       "      <td>199.000000</td>\n",
       "      <td>122.000000</td>\n",
       "      <td>99.000000</td>\n",
       "      <td>846.000000</td>\n",
       "      <td>67.100000</td>\n",
       "      <td>2.329000</td>\n",
       "      <td>81.000000</td>\n",
       "      <td>1.000000</td>\n",
       "    </tr>\n",
       "  </tbody>\n",
       "</table>\n",
       "</div>"
      ],
      "text/plain": [
       "       Pregnancies      Glucose  BloodPressure  SkinThickness     Insulin  \\\n",
       "count   635.000000   654.000000     680.000000     624.000000  680.000000   \n",
       "mean      3.700787   113.422018      68.786765      20.386218   80.123529   \n",
       "std       3.518126   202.816831      19.724841      15.987049  115.681140   \n",
       "min     -22.000000 -5000.000000      -2.000000       0.000000    0.000000   \n",
       "25%       1.000000    99.000000      62.000000       0.000000    0.000000   \n",
       "50%       3.000000   117.000000      72.000000      23.000000   34.000000   \n",
       "75%       6.000000   140.750000      80.000000      32.000000  129.250000   \n",
       "max      17.000000   199.000000     122.000000      99.000000  846.000000   \n",
       "\n",
       "              BMI  DiabetesPedigreeFunction         Age     Outcome  \n",
       "count  684.000000                590.000000  655.000000  768.000000  \n",
       "mean    32.083626                  0.466676   33.157252    0.348958  \n",
       "std      7.800741                  0.322408   13.829831    0.476951  \n",
       "min      0.000000                  0.078000 -150.000000    0.000000  \n",
       "25%     27.375000                  0.243250   24.000000    0.000000  \n",
       "50%     32.300000                  0.368000   29.000000    0.000000  \n",
       "75%     36.600000                  0.611500   41.000000    1.000000  \n",
       "max     67.100000                  2.329000   81.000000    1.000000  "
      ]
     },
     "execution_count": 9,
     "metadata": {},
     "output_type": "execute_result"
    }
   ],
   "source": [
    "dataset.describe()"
   ]
  },
  {
   "cell_type": "markdown",
   "id": "bdc7961f",
   "metadata": {},
   "source": [
    "missing value percent"
   ]
  },
  {
   "cell_type": "code",
   "execution_count": 10,
   "id": "5e416e80",
   "metadata": {},
   "outputs": [
    {
     "data": {
      "text/plain": [
       "Pregnancies                 17.317708\n",
       "Glucose                     14.843750\n",
       "BloodPressure               11.458333\n",
       "SkinThickness               18.750000\n",
       "Insulin                     11.458333\n",
       "BMI                         10.937500\n",
       "DiabetesPedigreeFunction    23.177083\n",
       "Age                         14.713542\n",
       "Outcome                      0.000000\n",
       "dtype: float64"
      ]
     },
     "execution_count": 10,
     "metadata": {},
     "output_type": "execute_result"
    }
   ],
   "source": [
    "missing_data_percent = dataset.isnull().sum() * 100 / len(dataset)\n",
    "missing_data_percent"
   ]
  },
  {
   "cell_type": "markdown",
   "id": "400c3576",
   "metadata": {},
   "source": [
    "# Handling missing values"
   ]
  },
  {
   "cell_type": "markdown",
   "id": "78373496",
   "metadata": {},
   "source": [
    "There are 2 primary ways of handling missing values: 1.Deleting the Missing values 2.Imputing the Missing Values\n",
    "\n",
    "Deleting the Missing value:\n",
    "\n",
    "Generally, this approach is not recommended. It is one of the quick and dirty techniques one can use to deal with missing values. If the missing value is of the type Missing Not At Random (MNAR), then it should not be deleted. If the missing value is of type Missing At Random (MAR) or Missing Completely At Random (MCAR) then it can be deleted. The disadvantage of this method is one might end up deleting some useful data from the dataset. There are 2 ways one can delete the missing values:\n",
    "\n",
    "1.Deleting the entire row: If a row has many missing values then you can choose to drop the entire row. If every row has some (column) value missing then you might end up deleting the whole data.\n",
    "\n",
    "2.Deleting the entire column If a certain column has many missing values then you can choose to drop the entire column.\n",
    "\n",
    "\n",
    "Imputing the Missing Value:\n",
    "\n",
    "There are different ways of replacing the missing values.\n",
    "\n",
    "Replacing With Arbitrary Value: If you can make an educated guess about the missing value then you can replace it with some arbitrary value\n",
    "\n",
    "Replacing With Mean: This is the most common method of imputing missing values of numeric columns. If there are outliers then the mean will not be appropriate. In such cases, outliers need to be treated first.\n",
    "\n",
    "Replacing With Mode: Mode is the most frequently occurring value. It is used in the case of categorical features.\n",
    "\n",
    "Replacing With Median: Median is the middlemost value. It’s better to use the median value for imputation in the case of outliers.\n",
    "\n",
    "Replacing with previous value – Forward fill: In some cases, imputing the values with the previous value instead of mean, mode or median is more appropriate. This is called forward fill. It is mostly used in time series data.\n",
    "\n",
    "Replacing with next value – Backward fill: In backward fill, the missing value is imputed using the next value."
   ]
  },
  {
   "cell_type": "markdown",
   "id": "e05c86a2",
   "metadata": {},
   "source": [
    "according to the previous results,DiabetesPedigreeFunction has the most missing values.\n",
    "\n",
    "we fill missing values with median"
   ]
  },
  {
   "cell_type": "code",
   "execution_count": 11,
   "id": "f841554a",
   "metadata": {},
   "outputs": [],
   "source": [
    "dataset['Pregnancies'] = dataset['Pregnancies'].fillna(dataset['Pregnancies'].mean())\n",
    "dataset['Glucose'] = dataset['Glucose'].fillna(dataset['Glucose'].mean())\n",
    "dataset['BloodPressure'] = dataset['BloodPressure'].fillna(dataset['BloodPressure'].mean())\n",
    "dataset['SkinThickness'] = dataset['SkinThickness'].fillna(dataset['SkinThickness'].mean())\n",
    "dataset['Insulin'] = dataset['Insulin'].fillna(dataset['Insulin'].mean())\n",
    "dataset['BMI'] = dataset['BMI'].fillna(dataset['BMI'].mean())\n",
    "dataset['DiabetesPedigreeFunction'] = dataset['DiabetesPedigreeFunction'].fillna(dataset['DiabetesPedigreeFunction'].mean())\n",
    "dataset['Age'] = dataset['Age'].fillna(dataset['Age'].mean())"
   ]
  },
  {
   "cell_type": "code",
   "execution_count": 12,
   "id": "730f3740",
   "metadata": {},
   "outputs": [
    {
     "data": {
      "text/plain": [
       "Pregnancies                 0.0\n",
       "Glucose                     0.0\n",
       "BloodPressure               0.0\n",
       "SkinThickness               0.0\n",
       "Insulin                     0.0\n",
       "BMI                         0.0\n",
       "DiabetesPedigreeFunction    0.0\n",
       "Age                         0.0\n",
       "Outcome                     0.0\n",
       "dtype: float64"
      ]
     },
     "execution_count": 12,
     "metadata": {},
     "output_type": "execute_result"
    }
   ],
   "source": [
    "dataset.isnull().sum()*100 / len(dataset)"
   ]
  },
  {
   "cell_type": "markdown",
   "id": "2b45f299",
   "metadata": {},
   "source": [
    "# Analyse Relation Between Features"
   ]
  },
  {
   "cell_type": "markdown",
   "id": "227add82",
   "metadata": {},
   "source": [
    "to see the dependency between variables we can use the function \"information gain\"\n",
    "\n",
    "as we can see Glucose has the most information gain.so it has the highest dependency with our result"
   ]
  },
  {
   "cell_type": "code",
   "execution_count": 13,
   "id": "b689cafe",
   "metadata": {},
   "outputs": [
    {
     "name": "stdout",
     "output_type": "stream",
     "text": [
      "Glucose                     0.098317\n",
      "BMI                         0.062488\n",
      "Age                         0.041958\n",
      "Pregnancies                 0.019569\n",
      "BloodPressure               0.014526\n",
      "Insulin                     0.010006\n",
      "SkinThickness               0.000092\n",
      "DiabetesPedigreeFunction    0.000000\n",
      "dtype: float64\n"
     ]
    },
    {
     "data": {
      "image/png": "[encoded data removed]",
      "text/plain": [
       "<Figure size 576x360 with 1 Axes>"
      ]
     },
     "metadata": {
      "needs_background": "light"
     },
     "output_type": "display_data"
    }
   ],
   "source": [
    "X = dataset.drop(['Outcome'], axis=1, inplace=False)\n",
    "y = dataset['Outcome']\n",
    "mutual_info = mutual_info_classif(X, y)\n",
    "mutual_info = pd.Series(mutual_info)\n",
    "mutual_info.index = X.columns\n",
    "mutual_info.sort_values(ascending=False).plot.bar(figsize=(8,5))\n",
    "print(mutual_info.sort_values(ascending=False))"
   ]
  },
  {
   "cell_type": "markdown",
   "id": "52053632",
   "metadata": {},
   "source": [
    "# Normalization VS Standardization"
   ]
  },
  {
   "cell_type": "markdown",
   "id": "e5acca18",
   "metadata": {},
   "source": [
    "Normalization or Min-Max Scaling\n",
    "\n",
    "is used to transform features to be on a similar scale. The new point is calculated as: X_new = (X - X_min)/(X_max - X_min) This scales the range to [0, 1]or sometimes [-1, 1]. Geometrically speaking, transformation squishes the n-dimensional data into an n-dimensional unit hypercube. Normalization is useful when there are no outliers as it cannot cope up with them. Usually, we would scale age and not incomes because only a few people have high incomes but the age is close to uniform.\n",
    "***********************************************************************************\n",
    "Standardization or Z-Score Normalization\n",
    "\n",
    "is the transformation of features by subtracting from mean and dividing by standard deviation. This is often called as Z-score. X_new = (X - mean)/Std Standardization can be helpful in cases where the data follows a Gaussian distribution. However, this does not have to be necessarily true. Geometrically speaking, it translates the data to the mean vector of original data to the origin and squishes or expands the points if std is 1 respectively. We can see that we are just changing mean and standard deviation to a standard normal distribution which is still normal thus the shape of the distribution is not affected. Standardization does not get affected by outliers because there is no predefined range of transformed features."
   ]
  },
  {
   "cell_type": "markdown",
   "id": "0559a539",
   "metadata": {},
   "source": [
    "in this project we dont need to use any of this methodes"
   ]
  },
  {
   "cell_type": "markdown",
   "id": "1b6e2140",
   "metadata": {},
   "source": [
    "# How to Work with Categorical Values"
   ]
  },
  {
   "cell_type": "markdown",
   "id": "d5933fd0",
   "metadata": {},
   "source": [
    "Machine learning models require all input and output variables to be numeric and this means that if your data contains categorical data, you must encode it to numbers before you can fit and evaluate a model. The two most popular techniques are:\n",
    "\n",
    "Ordinal Encoding\n",
    "\n",
    "The number of possible values is often limited to a fixed set.\n",
    "Each unique category value is assigned an integer value.\n",
    "The integer values have a natural ordered relationship between each other and machine learning algorithms may be able to understand and harness this relationship.\n",
    "********************************\n",
    "One-Hot Encoding\n",
    "\n",
    "For categorical variables where no ordinal relationship exists, the integer encoding may not be enough, at best, or misleading to the model at worst.\n",
    "This is where the integer encoded variable is removed and one new binary variable is added for each unique integer value in the variable.\n",
    "**********************************\n",
    "Binary Encoding\n",
    "\n",
    "Binary encoding is a combination of Hash encoding and one-hot encoding.\n",
    "Binary encoding works really well when there are a high number of categories."
   ]
  },
  {
   "cell_type": "markdown",
   "id": "a53f7d1c",
   "metadata": {},
   "source": [
    "we can delete some of columns if the information gain of them is very small. for example we can delete the DiabetesPedigreeFunction column because it's information gain is very small."
   ]
  },
  {
   "cell_type": "markdown",
   "id": "6c46802e",
   "metadata": {},
   "source": [
    "# Train Test split"
   ]
  },
  {
   "cell_type": "markdown",
   "id": "cdc233d9",
   "metadata": {},
   "source": [
    "You must choose a split percentage that meets your project’s objectives with considerations that include:\n",
    "\n",
    "1.Computational cost in training the model. 2.Computational cost in evaluating the model. 3.Training set representativeness. 4.Test set representativeness.\n",
    "\n",
    "Nevertheless, common split percentages include:\n",
    "\n",
    "Train: 80%, Test: 20%\n",
    "\n",
    "Train: 67%, Test: 33%\n",
    "\n",
    "Train: 50%, Test: 50%\n",
    "\n",
    "I claculate the accuracy for all of them,so I choose 0.2 for test size.\n",
    "\n",
    "What is the use of random state in train test split? The random state hyperparameter in the train_test_split() function controls the shuffling process. With random_state=None , we get different train and test sets across different executions and the shuffling process is out of control. With random_state=0 , we get the same train and test sets across different executions.\n",
    "\n",
    "When should you use a 50/50 break to split testing and training sets? If you have enough data, then you can actually go for a 50-50 split but there is no such thing as what would be better, depends completely on the amount of data you have and the complexity of the task you are trying to perform. If you train it on enough data, the size of the test set is of no concern\n",
    "\n",
    "Stratified Train-Test Splits One final consideration is for classification problems only.\n",
    "\n",
    "Some classification problems do not have a balanced number of examples for each class label. As such, it is desirable to split the dataset into train and test sets in a way that preserves the same proportions of examples in each class as observed in the original dataset.\n",
    "\n",
    "This is called a stratified train-test split.\n",
    "\n",
    "We can achieve this by setting the “stratify” argument to the y component of the original dataset. This will be used by the train_test_split() function to ensure that both the train and test sets have the proportion of examples in each class that is present in the provided “y” array."
   ]
  },
  {
   "cell_type": "code",
   "execution_count": 14,
   "id": "7a97c66a",
   "metadata": {},
   "outputs": [
    {
     "name": "stdout",
     "output_type": "stream",
     "text": [
      "Accuracy for 0.2 : 0.6688311688311688\n",
      "Accuracy for 0.3 : 0.6103896103896104\n",
      "Accuracy for 0.5 : 0.6145833333333334\n"
     ]
    }
   ],
   "source": [
    "from sklearn.tree import DecisionTreeClassifier\n",
    "from sklearn.model_selection import train_test_split\n",
    "from sklearn.metrics import confusion_matrix, ConfusionMatrixDisplay\n",
    "from sklearn import metrics\n",
    "\n",
    "X, y = dataset.drop([\"Outcome\"], axis=1), dataset['Outcome']\n",
    "target = dataset['Outcome']\n",
    "def calc(ts,df):\n",
    "    X_train, X_test, y_train, y_test = train_test_split(X, y, random_state=42, test_size=ts)\n",
    "    clf = DecisionTreeClassifier().fit(X_train,y_train)\n",
    "    y_pred = clf.predict(X_test)\n",
    "    print(\"Accuracy for\",ts,\":\",metrics.accuracy_score(y_test, y_pred))\n",
    "    return \n",
    "calc(0.2, dataset)\n",
    "calc(0.3, dataset)\n",
    "calc(0.5, dataset)"
   ]
  },
  {
   "cell_type": "markdown",
   "id": "66636e6e",
   "metadata": {},
   "source": [
    "# Validation set"
   ]
  },
  {
   "cell_type": "markdown",
   "id": "7f7b00d8",
   "metadata": {},
   "source": [
    "The validation set is a set of data, separate from the training set, that is used to validate our model performance during training.\n",
    "\n",
    "This validation process gives information that helps us tune the model’s hyperparameters and configurations accordingly. It is like a critic telling us whether the training is moving in the right direction or not.\n",
    "\n",
    "The model is trained on the training set, and, simultaneously, the model evaluation is performed on the validation set after every epoch.\n",
    "\n",
    "The main idea of splitting the dataset into a validation set is to prevent our model from overfitting i.e., the model becomes really good at classifying the samples in the training set but cannot generalize and make accurate classifications on the data it has not seen before. "
   ]
  },
  {
   "cell_type": "markdown",
   "id": "1f85d4c1",
   "metadata": {},
   "source": [
    "# K-Nearest Neighbors"
   ]
  },
  {
   "cell_type": "markdown",
   "id": "f7235dfc",
   "metadata": {},
   "source": [
    "Hyper-Parameters:\n",
    "    \n",
    "n_neighbors: Number of neighbors to use by default for kneighbors query"
   ]
  },
  {
   "cell_type": "code",
   "execution_count": 15,
   "id": "5eacbff4",
   "metadata": {},
   "outputs": [
    {
     "data": {
      "image/png": "[encoded data removed]",
      "text/plain": [
       "<Figure size 360x216 with 1 Axes>"
      ]
     },
     "metadata": {
      "needs_background": "light"
     },
     "output_type": "display_data"
    }
   ],
   "source": [
    "from sklearn.neighbors import KNeighborsClassifier\n",
    "\n",
    "X_train, X_test, y_train, y_test = train_test_split(X, y, random_state=42, test_size=0.2)\n",
    "\n",
    "\n",
    "k = [i for i in range(1, 15)]\n",
    "scores = list()\n",
    "\n",
    "for i in k:\n",
    "    clf = KNeighborsClassifier(n_neighbors=i).fit(X_train,y_train)\n",
    "    y_pred = clf.predict(X_test)\n",
    "\n",
    "    acc = metrics.accuracy_score(y_test, y_pred)\n",
    "    scores.append(acc)\n",
    "\n",
    "plt.figure(figsize=(5,3))\n",
    "plt.plot(k, scores, '-o')\n",
    "plt.title('n_neighbors')\n",
    "plt.show()"
   ]
  },
  {
   "cell_type": "markdown",
   "id": "37c3e74a",
   "metadata": {},
   "source": [
    "we have the best accuracy when the n_neighbor parameter is 1"
   ]
  },
  {
   "cell_type": "code",
   "execution_count": 16,
   "id": "e8326e98",
   "metadata": {},
   "outputs": [
    {
     "name": "stdout",
     "output_type": "stream",
     "text": [
      "Accuracy: 0.7012987012987013\n"
     ]
    },
    {
     "data": {
      "image/png": "[encoded data removed]",
      "text/plain": [
       "<Figure size 432x288 with 2 Axes>"
      ]
     },
     "metadata": {
      "needs_background": "light"
     },
     "output_type": "display_data"
    }
   ],
   "source": [
    "def getconf(neighbor):\n",
    "    clf =  KNeighborsClassifier(n_neighbors=neighbor).fit(X_train,y_train)\n",
    "    y_pred = clf.predict(X_test)\n",
    "    print(\"Accuracy:\",metrics.accuracy_score(y_test, y_pred))\n",
    "    a = confusion_matrix(y_test, y_pred)\n",
    "    cmd_obj = ConfusionMatrixDisplay(a)\n",
    "    cmd_obj.plot()\n",
    "    cmd_obj.ax_.set(\n",
    "                title='Confusion Matrix for Accuracy n_neighbor', \n",
    "                xlabel='Predicted Value', \n",
    "                ylabel='Actual Value')\n",
    "    plt.show()\n",
    "\n",
    "getconf(1)"
   ]
  },
  {
   "cell_type": "markdown",
   "id": "9f1a9e5a",
   "metadata": {},
   "source": [
    "# Decision Tree"
   ]
  },
  {
   "cell_type": "markdown",
   "id": "60aebc37",
   "metadata": {},
   "source": [
    "Hyper-Parameters:\n",
    "\n",
    "max_depth: The maximum depth of the tree. If None, then nodes are expanded until all leaves are pure or until all leaves contain less than min_samples_split samples\n",
    "\n",
    "min_samples_leaf:The minimum number of samples required to be at a leaf node. A split point at any depth will only be considered if it leaves at least min_samples_leaf training samples in each of the left and right branches. This may have the effect of smoothing the model, especially in regression.\n",
    "\n",
    "min_samples_split:The minimum number of samples that we can specify to term a given node as a leaf node so that we do not want to split it further.\n",
    "\n",
    "max_features:This type of hyperparameter represents the number of features\n",
    "\n",
    "random state:"
   ]
  },
  {
   "cell_type": "code",
   "execution_count": 17,
   "id": "1207cefe",
   "metadata": {},
   "outputs": [
    {
     "data": {
      "image/png": "[encoded data removed]",
      "text/plain": [
       "<Figure size 360x216 with 1 Axes>"
      ]
     },
     "metadata": {
      "needs_background": "light"
     },
     "output_type": "display_data"
    }
   ],
   "source": [
    "from sklearn.tree import DecisionTreeClassifier\n",
    "\n",
    "X_train, X_test, y_train, y_test = train_test_split(X, y, random_state=42, test_size=0.2)\n",
    "\n",
    "\n",
    "k = [i for i in range(1, 15)]\n",
    "scores = list()\n",
    "\n",
    "for i in k:\n",
    "    clf = DecisionTreeClassifier(max_depth=i).fit(X_train,y_train)\n",
    "    y_pred = clf.predict(X_test)\n",
    "\n",
    "    acc = metrics.accuracy_score(y_test, y_pred)\n",
    "    scores.append(acc)\n",
    "\n",
    "plt.figure(figsize=(5,3))\n",
    "plt.plot(k, scores, '-o')\n",
    "plt.title('max_depth')\n",
    "plt.show()"
   ]
  },
  {
   "cell_type": "code",
   "execution_count": 18,
   "id": "24927c0e",
   "metadata": {},
   "outputs": [
    {
     "data": {
      "image/png": "[encoded data removed]",
      "text/plain": [
       "<Figure size 360x216 with 1 Axes>"
      ]
     },
     "metadata": {
      "needs_background": "light"
     },
     "output_type": "display_data"
    }
   ],
   "source": [
    "k = [i for i in range(1, 20)]\n",
    "scores = list()\n",
    "\n",
    "for i in k:\n",
    "    clf = DecisionTreeClassifier(min_samples_leaf=i).fit(X_train,y_train)\n",
    "    y_pred = clf.predict(X_test)\n",
    "\n",
    "    acc = metrics.accuracy_score(y_test, y_pred)\n",
    "    scores.append(acc)\n",
    "\n",
    "plt.figure(figsize=(5,3))\n",
    "plt.plot(k, scores, '-o')\n",
    "plt.title('min_samples_leaf')\n",
    "plt.show()"
   ]
  },
  {
   "cell_type": "code",
   "execution_count": 19,
   "id": "3e9cc216",
   "metadata": {},
   "outputs": [
    {
     "data": {
      "image/png": "[encoded data removed]",
      "text/plain": [
       "<Figure size 360x216 with 1 Axes>"
      ]
     },
     "metadata": {
      "needs_background": "light"
     },
     "output_type": "display_data"
    }
   ],
   "source": [
    "k = [i for i in range(2, 15)]\n",
    "scores = list()\n",
    "\n",
    "for i in k:\n",
    "    clf = DecisionTreeClassifier(min_samples_split=i).fit(X_train,y_train)\n",
    "    y_pred = clf.predict(X_test)\n",
    "\n",
    "    acc = metrics.accuracy_score(y_test, y_pred)\n",
    "    scores.append(acc)\n",
    "\n",
    "plt.figure(figsize=(5,3))\n",
    "plt.plot(k, scores, '-o')\n",
    "plt.title('min_samples_split')\n",
    "plt.show()"
   ]
  },
  {
   "cell_type": "code",
   "execution_count": 20,
   "id": "f096a580",
   "metadata": {},
   "outputs": [
    {
     "data": {
      "image/png": "[encoded data removed]",
      "text/plain": [
       "<Figure size 360x216 with 1 Axes>"
      ]
     },
     "metadata": {
      "needs_background": "light"
     },
     "output_type": "display_data"
    }
   ],
   "source": [
    "k = [i for i in range(1, 15)]\n",
    "scores = list()\n",
    "\n",
    "for i in k:\n",
    "    clf = DecisionTreeClassifier(max_features=i).fit(X_train,y_train)\n",
    "    y_pred = clf.predict(X_test)\n",
    "\n",
    "    acc = metrics.accuracy_score(y_test, y_pred)\n",
    "    scores.append(acc)\n",
    "\n",
    "plt.figure(figsize=(5,3))\n",
    "plt.plot(k, scores, '-o')\n",
    "plt.title('max_features')\n",
    "plt.show()"
   ]
  },
  {
   "cell_type": "code",
   "execution_count": 21,
   "id": "be6eb649",
   "metadata": {},
   "outputs": [
    {
     "data": {
      "image/png": "[encoded data removed]",
      "text/plain": [
       "<Figure size 360x216 with 1 Axes>"
      ]
     },
     "metadata": {
      "needs_background": "light"
     },
     "output_type": "display_data"
    }
   ],
   "source": [
    "k = [i for i in range(1, 15)]\n",
    "scores = list()\n",
    "\n",
    "for i in k:\n",
    "    clf = DecisionTreeClassifier(random_state=i).fit(X_train,y_train)\n",
    "    y_pred = clf.predict(X_test)\n",
    "\n",
    "    acc = metrics.accuracy_score(y_test, y_pred)\n",
    "    scores.append(acc)\n",
    "\n",
    "plt.figure(figsize=(5,3))\n",
    "plt.plot(k, scores, '-o')\n",
    "plt.title('random_state')\n",
    "plt.show()"
   ]
  },
  {
   "cell_type": "code",
   "execution_count": 26,
   "id": "f577a292",
   "metadata": {},
   "outputs": [
    {
     "name": "stdout",
     "output_type": "stream",
     "text": [
      "Accuracy: 0.6753246753246753\n"
     ]
    },
    {
     "data": {
      "image/png": "[encoded data removed]",
      "text/plain": [
       "<Figure size 432x288 with 2 Axes>"
      ]
     },
     "metadata": {
      "needs_background": "light"
     },
     "output_type": "display_data"
    }
   ],
   "source": [
    "clf =  DecisionTreeClassifier(min_samples_leaf=17,max_depth=5,min_samples_split=5,max_features=3,random_state=3).fit(X_train,y_train)\n",
    "y_pred = clf.predict(X_test)\n",
    "print(\"Accuracy:\",metrics.accuracy_score(y_test, y_pred))\n",
    "a = confusion_matrix(y_test, y_pred)\n",
    "cmd_obj = ConfusionMatrixDisplay(a)\n",
    "cmd_obj.plot()\n",
    "cmd_obj.ax_.set(\n",
    "            title='Confusion Matrix for Accuracy', \n",
    "            xlabel='Predicted Value', \n",
    "            ylabel='Actual Value')\n",
    "plt.show()"
   ]
  },
  {
   "cell_type": "markdown",
   "id": "2e932e02",
   "metadata": {},
   "source": [
    "# Logistic Regression"
   ]
  },
  {
   "cell_type": "markdown",
   "id": "6eb910b0",
   "metadata": {},
   "source": [
    "Hyper-Parameters:\n",
    "\n",
    "Solver:is the algorithm you use to solve the optimization problem in minimizing the error. Sklearn offers us the following options to choose: {‘newton-cg’, ‘lbfgs’, ‘liblinear’, ‘sag’, ‘saga’}, default=’lbfgs’.\n",
    "\n",
    "lbfgs is an overall best performer compared to other methods and is memory efficient. You may encounter convergence issues though.\n",
    "sag is aimed to tackle large datasets, such as a large number of rows or features.\n",
    "saga is also suitable for very large datasets, you can choose this solver for sparse multinomial logistic regression.\n",
    "newton-cg calculates Hessian matrix and is computationally expensive in high dimensions\n",
    "liblinear is suitable for solving large-scale classification problems.\n",
    "\n",
    "Penalty: prevents your model from overfitting and becoming too complex. Sklearn provides us the following choices: {‘l1’, ‘l2’, ‘elasticnet’, ‘none’}, default=’l2’. You can see what penalties are supported by each solver.\n",
    "\n",
    "C : is set along with the penalty and also helps to prevent overfitting. Remember, C should be a positive value, and the smaller the values you specify the stronger regularization will be.\n",
    "\n",
    "You will find other parameters like class_weight, max_iter, and so on. They help you in handling specific issues. E.g., class_weight is helpful in imbalanced datasets where you can put more emphasis for a particular class, or max_iter can help you to fix a conversion issue"
   ]
  },
  {
   "cell_type": "code",
   "execution_count": 23,
   "id": "276d5fe7",
   "metadata": {},
   "outputs": [
    {
     "data": {
      "image/png": "[encoded data removed]",
      "text/plain": [
       "<Figure size 360x216 with 1 Axes>"
      ]
     },
     "metadata": {
      "needs_background": "light"
     },
     "output_type": "display_data"
    }
   ],
   "source": [
    " from sklearn.linear_model import LogisticRegression \n",
    "X_train, X_test, y_train, y_test = train_test_split(X, y, random_state=42, test_size=0.2)\n",
    "scores = list()\n",
    "\n",
    "def calc_logistic (solver_):\n",
    "    clf = LogisticRegression(solver=solver_).fit(X_train,y_train)\n",
    "    y_pred = clf.predict(X_test)\n",
    "    acc = metrics.accuracy_score(y_test, y_pred)\n",
    "    return acc\n",
    "\n",
    "k = ['lbfgs','liblinear','newton-cg','sag','saga']\n",
    "\n",
    "for i in k:\n",
    "    scores.append(calc_logistic(i))\n",
    "\n",
    "plt.figure(figsize=(5,3))\n",
    "plt.plot(k, scores, '-o')\n",
    "plt.title('Solver')\n",
    "plt.show()"
   ]
  },
  {
   "cell_type": "code",
   "execution_count": 24,
   "id": "cd903694",
   "metadata": {},
   "outputs": [
    {
     "data": {
      "image/png": "[encoded data removed]",
      "text/plain": [
       "<Figure size 360x216 with 1 Axes>"
      ]
     },
     "metadata": {
      "needs_background": "light"
     },
     "output_type": "display_data"
    }
   ],
   "source": [
    "scores = list()\n",
    "\n",
    "def calc_logistic (s,p):\n",
    "    clf = LogisticRegression(solver=s,penalty=p).fit(X_train,y_train)\n",
    "    y_pred = clf.predict(X_test)\n",
    "    acc = metrics.accuracy_score(y_test, y_pred)\n",
    "    scores.append(acc)\n",
    "\n",
    "calc_logistic('lbfgs','l2')\n",
    "calc_logistic('lbfgs','none')\n",
    "#calc_logistic('saga','elasticnet')\n",
    "calc_logistic('liblinear','l2')\n",
    "calc_logistic('liblinear','l1')\n",
    "calc_logistic('newton-cg','l2')\n",
    "calc_logistic('newton-cg','none')\n",
    "calc_logistic('sag','l2')\n",
    "calc_logistic('sag','none')\n",
    "\n",
    "k = [i for i in range(1, 9)]\n",
    "\n",
    "plt.figure(figsize=(5,3))\n",
    "plt.plot(k, scores, '-o')\n",
    "plt.title('Penalty and solver')\n",
    "plt.show()"
   ]
  },
  {
   "cell_type": "code",
   "execution_count": 25,
   "id": "52d50301",
   "metadata": {},
   "outputs": [
    {
     "name": "stdout",
     "output_type": "stream",
     "text": [
      "Accuracy: 0.7727272727272727\n"
     ]
    },
    {
     "data": {
      "image/png": "[encoded data removed]",
      "text/plain": [
       "<Figure size 432x288 with 2 Axes>"
      ]
     },
     "metadata": {
      "needs_background": "light"
     },
     "output_type": "display_data"
    }
   ],
   "source": [
    "clf =  LogisticRegression(solver='liblinear',penalty='l2').fit(X_train,y_train)\n",
    "y_pred = clf.predict(X_test)\n",
    "print(\"Accuracy:\",metrics.accuracy_score(y_test, y_pred))\n",
    "a = confusion_matrix(y_test, y_pred)\n",
    "cmd_obj = ConfusionMatrixDisplay(a)\n",
    "cmd_obj.plot()\n",
    "cmd_obj.ax_.set(\n",
    "            title='Confusion Matrix for Accuracy ', \n",
    "            xlabel='Predicted Value', \n",
    "            ylabel='Actual Value')\n",
    "plt.show()"
   ]
  },
  {
   "cell_type": "markdown",
   "id": "0822dc66",
   "metadata": {},
   "source": [
    "# Underfitting:"
   ]
  },
  {
   "cell_type": "markdown",
   "id": "21967291",
   "metadata": {},
   "source": [
    "A statistical model or a machine learning algorithm is said to have underfitting when it cannot capture the underlying trend of the data. (It’s just like trying to fit undersized pants!) Underfitting destroys the accuracy of our machine learning model. Its occurrence simply means that our model or the algorithm does not fit the data well enough. It usually happens when we have fewer data to build an accurate model and also when we try to build a linear model with fewer non-linear data. In such cases, the rules of the machine learning model are too easy and flexible to be applied on such minimal data and therefore the model will probably make a lot of wrong predictions. Underfitting can be avoided by using more data and also reducing the features by feature selection.\n",
    "\n",
    "Techniques to reduce underfitting:\n",
    "\n",
    "1-Increase model complexity 2-Increase the number of features, performing feature engineering 3-Remove noise from the data. 4-Increase the number of epochs or increase the duration of training to get better results."
   ]
  },
  {
   "cell_type": "markdown",
   "id": "63181cc9",
   "metadata": {},
   "source": [
    "# Overfitting:"
   ]
  },
  {
   "cell_type": "markdown",
   "id": "0ed8bd03",
   "metadata": {},
   "source": [
    "A statistical model is said to be overfitted when we train it with a lot of data (just like fitting ourselves in oversized pants!). When a model gets trained with so much data, it starts learning from the noise and inaccurate data entries in our data set. Then the model does not categorize the data correctly, because of too many details and noise. The causes of overfitting are the non-parametric and non-linear methods because these types of machine learning algorithms have more freedom in building the model based on the dataset and therefore they can really build unrealistic models. A solution to avoid overfitting is using a linear algorithm if we have linear data or using the parameters like the maximal depth if we are using decision trees.\n",
    "\n",
    "Techniques to reduce overfitting:\n",
    "\n",
    "1-Increase training data. 2-Reduce model complexity. 3-Early stopping during the training phase (have an eye over the loss over the training period as soon as loss begins to increase stop training). 4-Ridge Regularization and Lasso Regularization 5-Use dropout for neural networks to tackle overfitting."
   ]
  },
  {
   "cell_type": "markdown",
   "id": "367b3373",
   "metadata": {},
   "source": [
    "# Grid Search"
   ]
  },
  {
   "cell_type": "markdown",
   "id": "6ee0616d",
   "metadata": {},
   "source": [
    "I'v just test all the parameters for all models so I dont need to use Grid Search. because it finds best params for each model"
   ]
  },
  {
   "cell_type": "markdown",
   "id": "d3b6cdd5",
   "metadata": {},
   "source": [
    "# Ensemble Methods"
   ]
  },
  {
   "cell_type": "code",
   "execution_count": 27,
   "id": "4830b39c",
   "metadata": {},
   "outputs": [
    {
     "name": "stdout",
     "output_type": "stream",
     "text": [
      "accuracy = 0.7532467532467533\n"
     ]
    }
   ],
   "source": [
    "from sklearn.ensemble import RandomForestClassifier\n",
    "\n",
    "X_train, X_test, y_train, y_test = train_test_split(X, y, random_state=42, test_size=0.2)\n",
    "clf = RandomForestClassifier().fit(X_train,y_train)\n",
    "y_pred = clf.predict(X_test)\n",
    "print('accuracy =',metrics.accuracy_score(y_test, y_pred))"
   ]
  },
  {
   "cell_type": "markdown",
   "id": "5292273a",
   "metadata": {},
   "source": [
    "n_estimators: The number of trees in the forest"
   ]
  },
  {
   "cell_type": "code",
   "execution_count": 34,
   "id": "55d95780",
   "metadata": {},
   "outputs": [
    {
     "data": {
      "image/png": "[encoded data removed]",
      "text/plain": [
       "<Figure size 576x360 with 1 Axes>"
      ]
     },
     "metadata": {
      "needs_background": "light"
     },
     "output_type": "display_data"
    }
   ],
   "source": [
    "k = [i for i in range(1, 25)]\n",
    "scores = list()\n",
    "\n",
    "for i in k:\n",
    "    clf = RandomForestClassifier(n_estimators=i).fit(X_train,y_train)\n",
    "    y_pred = clf.predict(X_test)\n",
    "\n",
    "    acc = metrics.accuracy_score(y_test, y_pred)\n",
    "    scores.append(acc)\n",
    "\n",
    "plt.figure(figsize=(8,5))\n",
    "plt.plot(k, scores, '-o')\n",
    "plt.title('n_estimators')\n",
    "plt.show()"
   ]
  },
  {
   "cell_type": "markdown",
   "id": "3ea4bd53",
   "metadata": {},
   "source": [
    "max_depth: The maximum depth of the tree. If None, then nodes are expanded until all leaves are pure or until all leaves contain less than min_samples_split sample"
   ]
  },
  {
   "cell_type": "code",
   "execution_count": 29,
   "id": "6564c4a4",
   "metadata": {},
   "outputs": [
    {
     "data": {
      "image/png": "[encoded data removed]",
      "text/plain": [
       "<Figure size 576x360 with 1 Axes>"
      ]
     },
     "metadata": {
      "needs_background": "light"
     },
     "output_type": "display_data"
    }
   ],
   "source": [
    "k = [i for i in range(1, 15)]\n",
    "scores = list()\n",
    "\n",
    "for i in k:\n",
    "    clf = RandomForestClassifier(max_depth=i).fit(X_train,y_train)\n",
    "    y_pred = clf.predict(X_test)\n",
    "\n",
    "    acc = metrics.accuracy_score(y_test, y_pred)\n",
    "    scores.append(acc)\n",
    "\n",
    "plt.figure(figsize=(8,5))\n",
    "plt.plot(k, scores, '-o')\n",
    "plt.title('max_depth')\n",
    "plt.show()"
   ]
  },
  {
   "cell_type": "markdown",
   "id": "e9390a76",
   "metadata": {},
   "source": [
    "min_samples_leaf:The minimum number of samples required to be at a leaf node. A split point at any depth will only be considered if it leaves at least min_samples_leaf training samples in each of the left and right branches. This may have the effect of smoothing the model, especially in regression"
   ]
  },
  {
   "cell_type": "code",
   "execution_count": 33,
   "id": "04fa8d08",
   "metadata": {},
   "outputs": [
    {
     "data": {
      "image/png": "[encoded data removed]",
      "text/plain": [
       "<Figure size 576x360 with 1 Axes>"
      ]
     },
     "metadata": {
      "needs_background": "light"
     },
     "output_type": "display_data"
    }
   ],
   "source": [
    "k = [i for i in range(1, 15)]\n",
    "scores = list()\n",
    "\n",
    "for i in k:\n",
    "    clf = RandomForestClassifier(min_samples_leaf=i).fit(X_train,y_train)\n",
    "    y_pred = clf.predict(X_test)\n",
    "\n",
    "    acc = metrics.accuracy_score(y_test, y_pred)\n",
    "    scores.append(acc)\n",
    "\n",
    "plt.figure(figsize=(8,5))\n",
    "plt.plot(k, scores, '-o')\n",
    "plt.title('min_samples_leaf')\n",
    "plt.show()"
   ]
  },
  {
   "cell_type": "markdown",
   "id": "3d33d9c0",
   "metadata": {},
   "source": [
    "# What is Bias?"
   ]
  },
  {
   "cell_type": "markdown",
   "id": "823492ac",
   "metadata": {},
   "source": [
    "To make predictions, our model will analyze our data and find patterns in it. Using these patterns, we can make generalizations about certain instances in our data. Our model after training learns these patterns and applies them to the test set to predict them. \n",
    "\n",
    "Bias is the difference between our actual and predicted values. Bias is the simple assumptions that our model makes about our data to be able to predict new data.\n",
    "              \n",
    "When the Bias is high, assumptions made by our model are too basic, the model can’t capture the important features of our data. This means that our model hasn’t captured patterns in the training data and hence cannot perform well on the testing data too. If this is the case, our model cannot perform on new data and cannot be sent into production. \n",
    "\n",
    "This instance, where the model cannot find patterns in our training set and hence fails for both seen and unseen data, is called Underfitting. "
   ]
  },
  {
   "cell_type": "markdown",
   "id": "49226461",
   "metadata": {},
   "source": [
    "# What is Variance?"
   ]
  },
  {
   "cell_type": "markdown",
   "id": "e89125aa",
   "metadata": {},
   "source": [
    "Variance is the very opposite of Bias. During training, it allows our model to ‘see’ the data a certain number of times to find patterns in it. If it does not work on the data for long enough, it will not find patterns and bias occurs. On the other hand, if our model is allowed to view the data too many times, it will learn very well for only that data. It will capture most patterns in the data,  but it will also learn from the unnecessary data present, or from the noise.\n",
    "\n",
    "We can define variance as the model’s sensitivity to fluctuations in the data. Our model may learn from noise. This will cause our model to consider trivial features as important. \n",
    "\n",
    "Hence, our model will perform really well on testing data and get high accuracy but will fail to perform on new, unseen data. New data may not have the exact same features and the model won’t be able to predict it very well. This is called Overfitting."
   ]
  },
  {
   "cell_type": "code",
   "execution_count": null,
   "id": "b4b7b673",
   "metadata": {},
   "outputs": [],
   "source": []
  }
 ],
 "metadata": {
  "kernelspec": {
   "display_name": "Python 3 (ipykernel)",
   "language": "python",
   "name": "python3"
  },
  "language_info": {
   "codemirror_mode": {
    "name": "ipython",
    "version": 3
   },
   "file_extension": ".py",
   "mimetype": "text/x-python",
   "name": "python",
   "nbconvert_exporter": "python",
   "pygments_lexer": "ipython3",
   "version": "3.9.9"
  }
 },
 "nbformat": 4,
 "nbformat_minor": 5
}
